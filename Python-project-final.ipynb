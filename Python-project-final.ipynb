{
 "cells": [
  {
   "cell_type": "code",
   "execution_count": 1,
   "id": "658892c6",
   "metadata": {},
   "outputs": [
    {
     "name": "stderr",
     "output_type": "stream",
     "text": [
      "UsageError: Cell magic `%%writefile(\"abc.txt\")` not found.\n"
     ]
    }
   ],
   "source": []
  },
  {
   "cell_type": "code",
   "execution_count": 21,
   "id": "8da6b856",
   "metadata": {},
   "outputs": [
    {
     "name": "stdout",
     "output_type": "stream",
     "text": [
      "What Function Would You Like To Carry Out?\n",
      "(1) Morse Code to English\n",
      "(2) English to Morse Code\n",
      "Enter you choice : 1\n",
      "Enter file to be Encrypted/Decrypted with file extension :abc.txt\n"
     ]
    }
   ],
   "source": [
    "morseAlphabet ={\n",
    "    \"A\" : \".-\",\n",
    "    \"B\" : \"-...\",\n",
    "    \"C\" : \"-.-.\",\n",
    "    \"D\" : \"-..\",\n",
    "    \"E\" : \".\",\n",
    "    \"F\" : \"..-.\",\n",
    "    \"G\" : \"--.\",\n",
    "    \"H\" : \"....\",\n",
    "    \"I\" : \"..\",\n",
    "    \"J\" : \".---\",\n",
    "    \"K\" : \"-.-\",\n",
    "    \"L\" : \".-..\",\n",
    "    \"M\" : \"--\",\n",
    "    \"N\" : \"-.\",\n",
    "    \"O\" : \"---\",\n",
    "    \"P\" : \".--.\",\n",
    "    \"Q\" : \"--.-\",\n",
    "    \"R\" : \".-.\",\n",
    "    \"S\" : \"...\",\n",
    "    \"T\" : \"-\",\n",
    "    \"U\" : \"..-\",\n",
    "    \"V\" : \"...-\",\n",
    "    \"W\" : \".--\",\n",
    "    \"X\" : \"-..-\",\n",
    "    \"Y\" : \"-.--\",\n",
    "    \"Z\" : \"--..\",\n",
    "    \" \" : \"/\",\n",
    "    \"1\" : \".----\",\n",
    "    \"2\" : \"..---\",\n",
    "    \"3\" : \"...--\",\n",
    "    \"4\" : \"....-\",\n",
    "    \"5\" : \".....\",\n",
    "    \"6\" : \"-....\",\n",
    "    \"7\" : \"--...\",\n",
    "    \"8\" : \"---..\",\n",
    "    \"9\" : \"----.\",\n",
    "    \"0\" : \"-----\",\n",
    "    \".\" : \".-.-.-\",\n",
    "    \",\" : \"--..--\",\n",
    "    \":\" : \"---...\",\n",
    "    \"?\" : \"..--..\",\n",
    "    \"'\" : \".----.\",\n",
    "    \"-\" : \"-....-\",\n",
    "    \"/\" : \"-..-.\",\n",
    "    \"@\" : \".--.-.\",\n",
    "    \"=\" : \"-...-\"\n",
    "    }\n",
    "\n",
    "inverseMorseAlphabet=dict((v,k) for (k,v) in morseAlphabet.items())\n",
    "\n",
    "# parse a morse code string positionInString is the starting point for decoding\n",
    "def decodeMorse(message):\n",
    "    messageSeparated = message.split(' ')\n",
    "    decodeMessage = ''\n",
    "    for char in messageSeparated:\n",
    "        if char in inverseMorseAlphabet:\n",
    "            decodeMessage += inverseMorseAlphabet[char]\n",
    "        else:\n",
    "            # CNF = Character not found\n",
    "            decodeMessage += '<CNF>'\n",
    "    return decodeMessage\n",
    "    \n",
    "#encode a message in morse code, spaces between words are represented by '/'\n",
    "def encodeToMorse(message):\n",
    "    encodedMessage = \"\"\n",
    "    for char in message[:]:\n",
    "        encodedMessage += morseAlphabet[char.upper()] + \" \"\n",
    "            \n",
    "    return encodedMessage\n",
    "\n",
    "print(\"What Function Would You Like To Carry Out?\\n(1) Morse Code to English\\n(2) English to Morse Code\")\n",
    "a=int(input(\"Enter you choice : \"))\n",
    "file=input(\"Enter file to be Encrypted/Decrypted with file extension :\")\n",
    "f=open(file,\"r+\")\n",
    "if a==1:\n",
    "    x=f.read()\n",
    "    f.write(decodeMorse(x.strip()))\n",
    "elif a==2:\n",
    "    x=f.read()\n",
    "    f.write(encodeToMorse(x.strip()))\n",
    "else:\n",
    "    print(\"Invalid Input!\")\n",
    "    \n",
    "f.close()"
   ]
  },
  {
   "cell_type": "code",
   "execution_count": null,
   "id": "234aa7b5",
   "metadata": {},
   "outputs": [],
   "source": []
  }
 ],
 "metadata": {
  "kernelspec": {
   "display_name": "Python 3 (ipykernel)",
   "language": "python",
   "name": "python3"
  },
  "language_info": {
   "codemirror_mode": {
    "name": "ipython",
    "version": 3
   },
   "file_extension": ".py",
   "mimetype": "text/x-python",
   "name": "python",
   "nbconvert_exporter": "python",
   "pygments_lexer": "ipython3",
   "version": "3.9.12"
  }
 },
 "nbformat": 4,
 "nbformat_minor": 5
}
